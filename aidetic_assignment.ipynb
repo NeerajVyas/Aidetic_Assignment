{
 "cells": [
  {
   "cell_type": "code",
   "execution_count": 1,
   "id": "b51b691d",
   "metadata": {},
   "outputs": [
    {
     "name": "stdout",
     "output_type": "stream",
     "text": [
      "Current user is neerajvyas\n"
     ]
    }
   ],
   "source": [
    "# Getting the current user,\n",
    "# in each computer the username is based on the os's user.\n",
    "# I am using MacBook M1 Pro\n",
    "# I have created a Folder Aidetic\n",
    "\n",
    "import os\n",
    "current_user = os.getenv(\"USER\")\n",
    "print(\"Current user is\", current_user)\n",
    "\n",
    "#Current user is neerajvyas"
   ]
  },
  {
   "cell_type": "code",
   "execution_count": 2,
   "id": "2f8268b8",
   "metadata": {},
   "outputs": [],
   "source": [
    "# All the libraries \n",
    "import pyspark\n",
    "import importlib\n",
    "from pyspark.sql import SparkSession\n",
    "from pyspark.sql.functions import to_date, to_timestamp, col, lower, udf, concat\n",
    "from pyspark.sql.types import StringType\n",
    "\n",
    "# FOR MAP CREATION \n",
    "#! pip install folium\n",
    "import folium"
   ]
  },
  {
   "cell_type": "code",
   "execution_count": 3,
   "id": "d794f5ff",
   "metadata": {},
   "outputs": [
    {
     "name": "stdout",
     "output_type": "stream",
     "text": [
      "PySpark is already installed.\n"
     ]
    }
   ],
   "source": [
    "# Check if PySpark is installed, if not then we will install pyspark\n",
    "if importlib.util.find_spec(\"pyspark\") is None:\n",
    "    print(\"PySpark is not installed. Installing...\")\n",
    "    !pip install pyspark\n",
    "else:\n",
    "    print(\"PySpark is already installed.\")"
   ]
  },
  {
   "cell_type": "markdown",
   "id": "0c7c3e56",
   "metadata": {},
   "source": [
    "#### Creating Pyspark Session"
   ]
  },
  {
   "cell_type": "code",
   "execution_count": 4,
   "id": "c240e5cb",
   "metadata": {},
   "outputs": [
    {
     "name": "stderr",
     "output_type": "stream",
     "text": [
      "24/02/23 17:32:34 WARN Utils: Your hostname, Neerajs-MacBook-Pro.local resolves to a loopback address: 127.0.0.1; using 192.168.0.105 instead (on interface en0)\n",
      "24/02/23 17:32:34 WARN Utils: Set SPARK_LOCAL_IP if you need to bind to another address\n",
      "Setting default log level to \"WARN\".\n",
      "To adjust logging level use sc.setLogLevel(newLevel). For SparkR, use setLogLevel(newLevel).\n",
      "24/02/23 17:32:34 WARN NativeCodeLoader: Unable to load native-hadoop library for your platform... using builtin-java classes where applicable\n",
      "24/02/23 17:32:36 WARN Utils: Service 'SparkUI' could not bind on port 4040. Attempting port 4041.\n"
     ]
    }
   ],
   "source": [
    "spark = SparkSession.builder.appName(\"AideticAssignment\").getOrCreate()"
   ]
  },
  {
   "cell_type": "markdown",
   "id": "058e94b0",
   "metadata": {},
   "source": [
    "### 1. Load the dataset into a PySpark DataFrame."
   ]
  },
  {
   "cell_type": "code",
   "execution_count": 5,
   "id": "816e299c",
   "metadata": {},
   "outputs": [
    {
     "name": "stderr",
     "output_type": "stream",
     "text": [
      "                                                                                \r"
     ]
    }
   ],
   "source": [
    "csv_file_path = \"/Users/\" + current_user + \"/Aidetic/database.csv\"\n",
    "df = spark.read.format(\"csv\").option(\"header\", \"true\").load(csv_file_path)"
   ]
  },
  {
   "cell_type": "code",
   "execution_count": 6,
   "id": "b875ae6d",
   "metadata": {},
   "outputs": [
    {
     "name": "stdout",
     "output_type": "stream",
     "text": [
      "root\n",
      " |-- Date: string (nullable = true)\n",
      " |-- Time: string (nullable = true)\n",
      " |-- Latitude: string (nullable = true)\n",
      " |-- Longitude: string (nullable = true)\n",
      " |-- Type: string (nullable = true)\n",
      " |-- Depth: string (nullable = true)\n",
      " |-- Depth Error: string (nullable = true)\n",
      " |-- Depth Seismic Stations: string (nullable = true)\n",
      " |-- Magnitude: string (nullable = true)\n",
      " |-- Magnitude Type: string (nullable = true)\n",
      " |-- Magnitude Error: string (nullable = true)\n",
      " |-- Magnitude Seismic Stations: string (nullable = true)\n",
      " |-- Azimuthal Gap: string (nullable = true)\n",
      " |-- Horizontal Distance: string (nullable = true)\n",
      " |-- Horizontal Error: string (nullable = true)\n",
      " |-- Root Mean Square: string (nullable = true)\n",
      " |-- ID: string (nullable = true)\n",
      " |-- Source: string (nullable = true)\n",
      " |-- Location Source: string (nullable = true)\n",
      " |-- Magnitude Source: string (nullable = true)\n",
      " |-- Status: string (nullable = true)\n",
      "\n"
     ]
    }
   ],
   "source": [
    "df.printSchema()"
   ]
  },
  {
   "cell_type": "code",
   "execution_count": null,
   "id": "e56fedc9",
   "metadata": {},
   "outputs": [],
   "source": [
    "# I am assuming that there are no null values"
   ]
  },
  {
   "cell_type": "code",
   "execution_count": 8,
   "id": "2f4d6890",
   "metadata": {},
   "outputs": [],
   "source": [
    "# Casting the schema accordingly because all are in string format by default.\n",
    "\n",
    "# Converting string to DateType\n",
    "# df = df.withColumn(\"Date\", to_date(df[\"Date\"], \"MM/dd/yyyy\"))\n",
    "\n",
    "# # Converting string to TimestampType\n",
    "# df = df.withColumn(\"Time\", to_timestamp(df[\"Time\"], \"HH:mm:ss\"))\n",
    "\n",
    "# Converting string to double (Floating type numbers)\n",
    "df = df.withColumn(\"Latitude\", col(\"Latitude\").cast(\"double\"))\n",
    "df = df.withColumn(\"Longitude\", col(\"Longitude\").cast(\"double\"))\n",
    "df = df.withColumn(\"Depth\", col(\"Depth\").cast(\"double\"))\n",
    "df = df.withColumn(\"Depth Error\", col(\"Depth Error\").cast(\"double\"))\n",
    "df = df.withColumn(\"Depth Seismic Stations\", col(\"Depth Seismic Stations\").cast(\"double\"))\n",
    "df = df.withColumn(\"Magnitude\", col(\"Magnitude\").cast(\"double\"))\n",
    "df = df.withColumn(\"Magnitude Error\", col(\"Magnitude Error\").cast(\"double\"))\n",
    "df = df.withColumn(\"Magnitude Seismic Stations\", col(\"Magnitude Seismic Stations\").cast(\"double\"))\n",
    "df = df.withColumn(\"Azimuthal Gap\", col(\"Azimuthal Gap\").cast(\"double\"))\n",
    "df = df.withColumn(\"Horizontal Distance\", col(\"Horizontal Distance\").cast(\"double\"))\n",
    "df = df.withColumn(\"Horizontal Error\", col(\"Magnitude Error\").cast(\"double\"))\n",
    "df = df.withColumn(\"Root Mean Square\", col(\"Root Mean Square\").cast(\"double\"))"
   ]
  },
  {
   "cell_type": "code",
   "execution_count": 9,
   "id": "da60b33f",
   "metadata": {},
   "outputs": [
    {
     "name": "stdout",
     "output_type": "stream",
     "text": [
      "root\n",
      " |-- Date: string (nullable = true)\n",
      " |-- Time: string (nullable = true)\n",
      " |-- Latitude: double (nullable = true)\n",
      " |-- Longitude: double (nullable = true)\n",
      " |-- Type: string (nullable = true)\n",
      " |-- Depth: double (nullable = true)\n",
      " |-- Depth Error: double (nullable = true)\n",
      " |-- Depth Seismic Stations: double (nullable = true)\n",
      " |-- Magnitude: double (nullable = true)\n",
      " |-- Magnitude Type: string (nullable = true)\n",
      " |-- Magnitude Error: double (nullable = true)\n",
      " |-- Magnitude Seismic Stations: double (nullable = true)\n",
      " |-- Azimuthal Gap: double (nullable = true)\n",
      " |-- Horizontal Distance: double (nullable = true)\n",
      " |-- Horizontal Error: double (nullable = true)\n",
      " |-- Root Mean Square: double (nullable = true)\n",
      " |-- ID: string (nullable = true)\n",
      " |-- Source: string (nullable = true)\n",
      " |-- Location Source: string (nullable = true)\n",
      " |-- Magnitude Source: string (nullable = true)\n",
      " |-- Status: string (nullable = true)\n",
      "\n"
     ]
    }
   ],
   "source": [
    "df.printSchema()"
   ]
  },
  {
   "cell_type": "markdown",
   "id": "5d4140f4",
   "metadata": {},
   "source": [
    "### 2. Convert the Date and Time columns into a timestamp column named Timestamp.\n"
   ]
  },
  {
   "cell_type": "code",
   "execution_count": 10,
   "id": "b36fb17a",
   "metadata": {},
   "outputs": [
    {
     "name": "stdout",
     "output_type": "stream",
     "text": [
      "+----------+--------+-------------------+\n",
      "|      Date|    Time|          Timestamp|\n",
      "+----------+--------+-------------------+\n",
      "|01/02/1965|13:44:18|1965-01-02 13:44:18|\n",
      "|01/04/1965|11:29:49|1965-01-04 11:29:49|\n",
      "|01/05/1965|18:05:58|1965-01-05 18:05:58|\n",
      "|01/08/1965|18:49:43|1965-01-08 18:49:43|\n",
      "|01/09/1965|13:32:50|1965-01-09 13:32:50|\n",
      "+----------+--------+-------------------+\n",
      "only showing top 5 rows\n",
      "\n"
     ]
    }
   ],
   "source": [
    "# Date and Time are in String formart and Time stamp is the new column in timestamp format.\n",
    "df = df.withColumn(\"Timestamp\", to_timestamp(concat(df[\"Date\"], df[\"Time\"]), \"MM/dd/yyyyHH:mm:ss\"))\n",
    "df['Date','Time','Timestamp'].show(5)"
   ]
  },
  {
   "cell_type": "code",
   "execution_count": null,
   "id": "ad7277df",
   "metadata": {},
   "outputs": [],
   "source": []
  },
  {
   "cell_type": "markdown",
   "id": "c1ceebd3",
   "metadata": {},
   "source": [
    "### 3.Filter the dataset to include only earthquakes with a magnitude greater than 5.0."
   ]
  },
  {
   "cell_type": "code",
   "execution_count": 11,
   "id": "c77331d1",
   "metadata": {},
   "outputs": [
    {
     "name": "stderr",
     "output_type": "stream",
     "text": [
      "                                                                                \r"
     ]
    },
    {
     "name": "stdout",
     "output_type": "stream",
     "text": [
      "23232\n",
      "23232\n"
     ]
    }
   ],
   "source": [
    "filtered_df = df.filter((lower(df[\"Type\"]) == \"earthquake\") & (df[\"magnitude\"] > 5.0))\n",
    "magintude_greater_than_5 = filtered_df.count()\n",
    "print(magintude_greater_than_5)\n",
    "print(df.filter((lower(df[\"Type\"]) == \"earthquake\") & (df[\"magnitude\"] > 5.0)).count())"
   ]
  },
  {
   "cell_type": "code",
   "execution_count": null,
   "id": "14831299",
   "metadata": {},
   "outputs": [],
   "source": []
  },
  {
   "cell_type": "markdown",
   "id": "64147ab4",
   "metadata": {},
   "source": [
    "### 4. Calculate the average depth and magnitude of earthquakes for each earthquake type"
   ]
  },
  {
   "cell_type": "code",
   "execution_count": 12,
   "id": "99084497",
   "metadata": {},
   "outputs": [
    {
     "name": "stdout",
     "output_type": "stream",
     "text": [
      "========== Depth Average ============\n",
      "+-----------------+-----------------+\n",
      "|             Type|       avg(depth)|\n",
      "+-----------------+-----------------+\n",
      "|        Explosion|              0.0|\n",
      "|       Rock Burst|              1.0|\n",
      "|Nuclear Explosion|              0.3|\n",
      "|       Earthquake|71.31391348140497|\n",
      "+-----------------+-----------------+\n",
      "\n",
      "========== Magnitude Average ========\n",
      "+-----------------+-----------------+\n",
      "|             Type|   avg(magnitude)|\n",
      "+-----------------+-----------------+\n",
      "|        Explosion|             5.85|\n",
      "|       Rock Burst|              6.2|\n",
      "|Nuclear Explosion|5.850685714285718|\n",
      "|       Earthquake|5.882762568870756|\n",
      "+-----------------+-----------------+\n",
      "\n"
     ]
    }
   ],
   "source": [
    "import pyspark.sql.functions as sqlfunc\n",
    "print(\"========== Depth Average ============\")\n",
    "df.groupby('Type').agg(sqlfunc.avg('depth')).show()\n",
    "\n",
    "print(\"========== Magnitude Average ========\")\n",
    "df.groupby('Type').agg(sqlfunc.avg('magnitude')).show()"
   ]
  },
  {
   "cell_type": "code",
   "execution_count": null,
   "id": "ae38de2c",
   "metadata": {},
   "outputs": [],
   "source": []
  },
  {
   "cell_type": "markdown",
   "id": "9ff93e2d",
   "metadata": {},
   "source": [
    "### 5.Implement a UDF to categorize the earthquakes into levels (e.g., Low, Moderate, High) based on their magnitudes."
   ]
  },
  {
   "cell_type": "code",
   "execution_count": 13,
   "id": "d0bc6422",
   "metadata": {},
   "outputs": [],
   "source": [
    "df = df.withColumn(\"Magnitude\", col(\"Magnitude\").cast(\"int\"))"
   ]
  },
  {
   "cell_type": "code",
   "execution_count": 14,
   "id": "53994287",
   "metadata": {},
   "outputs": [],
   "source": [
    "\n",
    "# Define a user-defined function to categorize magnitude levels\n",
    "def classify_magnitude(magnitude):\n",
    "    if magnitude >= 7:\n",
    "        return \"High\"\n",
    "    elif magnitude >= 5:\n",
    "        return \"Moderate\"\n",
    "    else:\n",
    "        return \"Low\"\n",
    "\n",
    "# Register the Python function as a UDF\n",
    "classify_magnitude_udf = udf(classify_magnitude, StringType())\n",
    "\n",
    "# Apply the UDF to the DataFrame\n",
    "df = df.withColumn(\"MagnitudeLevel\", classify_magnitude_udf(df[\"Magnitude\"]))"
   ]
  },
  {
   "cell_type": "code",
   "execution_count": 15,
   "id": "874b9a75",
   "metadata": {},
   "outputs": [
    {
     "name": "stderr",
     "output_type": "stream",
     "text": [
      "\r",
      "[Stage 14:>                                                         (0 + 1) / 1]\r"
     ]
    },
    {
     "name": "stdout",
     "output_type": "stream",
     "text": [
      "+----------+--------+--------+---------+----------+-----+-----------+----------------------+---------+--------------+---------------+--------------------------+-------------+-------------------+----------------+----------------+--------------------+---------+---------------+----------------+---------+-------------------+--------------+\n",
      "|      Date|    Time|Latitude|Longitude|      Type|Depth|Depth Error|Depth Seismic Stations|Magnitude|Magnitude Type|Magnitude Error|Magnitude Seismic Stations|Azimuthal Gap|Horizontal Distance|Horizontal Error|Root Mean Square|                  ID|   Source|Location Source|Magnitude Source|   Status|          Timestamp|MagnitudeLevel|\n",
      "+----------+--------+--------+---------+----------+-----+-----------+----------------------+---------+--------------+---------------+--------------------------+-------------+-------------------+----------------+----------------+--------------------+---------+---------------+----------------+---------+-------------------+--------------+\n",
      "|01/02/1965|13:44:18|  19.246|  145.616|Earthquake|131.6|       NULL|                  NULL|        6|            MW|           NULL|                      NULL|         NULL|               NULL|            NULL|            NULL|        ISCGEM860706|   ISCGEM|         ISCGEM|          ISCGEM|Automatic|1965-01-02 13:44:18|      Moderate|\n",
      "|01/04/1965|11:29:49|   1.863|  127.352|Earthquake| 80.0|       NULL|                  NULL|        5|            MW|           NULL|                      NULL|         NULL|               NULL|            NULL|            NULL|        ISCGEM860737|   ISCGEM|         ISCGEM|          ISCGEM|Automatic|1965-01-04 11:29:49|      Moderate|\n",
      "|01/05/1965|18:05:58| -20.579| -173.972|Earthquake| 20.0|       NULL|                  NULL|        6|            MW|           NULL|                      NULL|         NULL|               NULL|            NULL|            NULL|        ISCGEM860762|   ISCGEM|         ISCGEM|          ISCGEM|Automatic|1965-01-05 18:05:58|      Moderate|\n",
      "|01/08/1965|18:49:43| -59.076|  -23.557|Earthquake| 15.0|       NULL|                  NULL|        5|            MW|           NULL|                      NULL|         NULL|               NULL|            NULL|            NULL|        ISCGEM860856|   ISCGEM|         ISCGEM|          ISCGEM|Automatic|1965-01-08 18:49:43|      Moderate|\n",
      "|01/09/1965|13:32:50|  11.938|  126.427|Earthquake| 15.0|       NULL|                  NULL|        5|            MW|           NULL|                      NULL|         NULL|               NULL|            NULL|            NULL|        ISCGEM860890|   ISCGEM|         ISCGEM|          ISCGEM|Automatic|1965-01-09 13:32:50|      Moderate|\n",
      "|01/10/1965|13:36:32| -13.405|  166.629|Earthquake| 35.0|       NULL|                  NULL|        6|            MW|           NULL|                      NULL|         NULL|               NULL|            NULL|            NULL|        ISCGEM860922|   ISCGEM|         ISCGEM|          ISCGEM|Automatic|1965-01-10 13:36:32|      Moderate|\n",
      "|01/12/1965|13:32:25|  27.357|   87.867|Earthquake| 20.0|       NULL|                  NULL|        5|            MW|           NULL|                      NULL|         NULL|               NULL|            NULL|            NULL|        ISCGEM861007|   ISCGEM|         ISCGEM|          ISCGEM|Automatic|1965-01-12 13:32:25|      Moderate|\n",
      "|01/15/1965|23:17:42| -13.309|  166.212|Earthquake| 35.0|       NULL|                  NULL|        6|            MW|           NULL|                      NULL|         NULL|               NULL|            NULL|            NULL|        ISCGEM861111|   ISCGEM|         ISCGEM|          ISCGEM|Automatic|1965-01-15 23:17:42|      Moderate|\n",
      "|01/16/1965|11:32:37| -56.452|  -27.043|Earthquake| 95.0|       NULL|                  NULL|        6|            MW|           NULL|                      NULL|         NULL|               NULL|            NULL|            NULL|     ISCGEMSUP861125|ISCGEMSUP|         ISCGEM|          ISCGEM|Automatic|1965-01-16 11:32:37|      Moderate|\n",
      "|01/17/1965|10:43:17| -24.563|  178.487|Earthquake|565.0|       NULL|                  NULL|        5|            MW|           NULL|                      NULL|         NULL|               NULL|            NULL|            NULL|        ISCGEM861148|   ISCGEM|         ISCGEM|          ISCGEM|Automatic|1965-01-17 10:43:17|      Moderate|\n",
      "|01/17/1965|20:57:41|  -6.807|  108.988|Earthquake|227.9|       NULL|                  NULL|        5|            MW|           NULL|                      NULL|         NULL|               NULL|            NULL|            NULL|        ISCGEM861155|   ISCGEM|         ISCGEM|          ISCGEM|Automatic|1965-01-17 20:57:41|      Moderate|\n",
      "|01/24/1965|00:11:17|  -2.608|  125.952|Earthquake| 20.0|       NULL|                  NULL|        8|            MW|           NULL|                      NULL|         NULL|               NULL|            NULL|            NULL|        ISCGEM861299|   ISCGEM|         ISCGEM|          ISCGEM|Automatic|1965-01-24 00:11:17|          High|\n",
      "|01/29/1965|09:35:30|  54.636|  161.703|Earthquake| 55.0|       NULL|                  NULL|        5|            MW|           NULL|                      NULL|         NULL|               NULL|            NULL|            NULL|        ISCGEM861461|   ISCGEM|         ISCGEM|          ISCGEM|Automatic|1965-01-29 09:35:30|      Moderate|\n",
      "|02/01/1965|05:27:06| -18.697| -177.864|Earthquake|482.9|       NULL|                  NULL|        5|            MW|           NULL|                      NULL|         NULL|               NULL|            NULL|            NULL|        ISCGEM859136|   ISCGEM|         ISCGEM|          ISCGEM|Automatic|1965-02-01 05:27:06|      Moderate|\n",
      "|02/02/1965|15:56:51|  37.523|   73.251|Earthquake| 15.0|       NULL|                  NULL|        6|            MW|           NULL|                      NULL|         NULL|               NULL|            NULL|            NULL|        ISCGEM859164|   ISCGEM|         ISCGEM|          ISCGEM|Automatic|1965-02-02 15:56:51|      Moderate|\n",
      "|02/04/1965|03:25:00|  -51.84|  139.741|Earthquake| 10.0|       NULL|                  NULL|        6|            MW|           NULL|                      NULL|         NULL|               NULL|            NULL|            NULL|        ISCGEM859200|   ISCGEM|         ISCGEM|          ISCGEM|Automatic|1965-02-04 03:25:00|      Moderate|\n",
      "|02/04/1965|05:01:22|  51.251|  178.715|Earthquake| 30.3|       NULL|                  NULL|        8|            MW|           NULL|                      NULL|         NULL|               NULL|            NULL|            NULL|OFFICIAL196502040...| OFFICIAL|         ISCGEM|        OFFICIAL|Automatic|1965-02-04 05:01:22|          High|\n",
      "|02/04/1965|06:04:59|  51.639|  175.055|Earthquake| 30.0|       NULL|                  NULL|        6|            MW|           NULL|                      NULL|         NULL|               NULL|            NULL|            NULL|     ISCGEMSUP859215|ISCGEMSUP|         ISCGEM|          ISCGEM|Automatic|1965-02-04 06:04:59|      Moderate|\n",
      "|02/04/1965|06:37:06|  52.528|  172.007|Earthquake| 25.0|       NULL|                  NULL|        5|            MW|           NULL|                      NULL|         NULL|               NULL|            NULL|            NULL|        ISCGEM859221|   ISCGEM|         ISCGEM|          ISCGEM|Automatic|1965-02-04 06:37:06|      Moderate|\n",
      "|02/04/1965|06:39:32|  51.626|  175.746|Earthquake| 25.0|       NULL|                  NULL|        5|            MW|           NULL|                      NULL|         NULL|               NULL|            NULL|            NULL|        ISCGEM859222|   ISCGEM|         ISCGEM|          ISCGEM|Automatic|1965-02-04 06:39:32|      Moderate|\n",
      "+----------+--------+--------+---------+----------+-----+-----------+----------------------+---------+--------------+---------------+--------------------------+-------------+-------------------+----------------+----------------+--------------------+---------+---------------+----------------+---------+-------------------+--------------+\n",
      "only showing top 20 rows\n",
      "\n"
     ]
    },
    {
     "name": "stderr",
     "output_type": "stream",
     "text": [
      "\r",
      "                                                                                \r"
     ]
    }
   ],
   "source": [
    "df.show()"
   ]
  },
  {
   "cell_type": "markdown",
   "id": "6846bd28",
   "metadata": {},
   "source": [
    "### 6. Calculate the distance of each earthquake from a reference location (e.g., (0, 0))."
   ]
  },
  {
   "cell_type": "code",
   "execution_count": 16,
   "id": "30d467d4",
   "metadata": {},
   "outputs": [],
   "source": [
    "from pyspark.sql import SparkSession\n",
    "from pyspark.sql.functions import udf\n",
    "from pyspark.sql.types import FloatType\n",
    "from math import radians, sin, cos, sqrt, atan2\n",
    "\n",
    "# Reference location\n",
    "ref_latitude = 0\n",
    "ref_longitude = 0\n",
    "\n",
    "# Define Haversine formula as a UDF\n",
    "@udf(returnType=FloatType())\n",
    "def calculate_distance(latitude, longitude):\n",
    "    earth_radius_km = 6371.0  # Earth's radius in kilometers\n",
    "\n",
    "    # Convert latitude and longitude from degrees to radians\n",
    "    lat1 = radians(ref_latitude)\n",
    "    lon1 = radians(ref_longitude)\n",
    "    lat2 = radians(latitude)\n",
    "    lon2 = radians(longitude)\n",
    "\n",
    "    # Calculate differences\n",
    "    dlat = lat2 - lat1\n",
    "    dlon = lon2 - lon1\n",
    "\n",
    "    # Calculate distance using Haversine formula\n",
    "    a = sin(dlat / 2) ** 2 + cos(lat1) * cos(lat2) * sin(dlon / 2) ** 2\n",
    "    c = 2 * atan2(sqrt(a), sqrt(1 - a))\n",
    "    distance_km = earth_radius_km * c\n",
    "\n",
    "    return distance_km\n",
    "\n",
    "# Apply the UDF to calculate distance for each earthquake\n",
    "\n",
    "df = df.withColumn(\"Distance_km\", calculate_distance(\n",
    "    df[\"Latitude\"],\n",
    "    df[\"Longitude\"])\n",
    ")\n",
    "\n",
    "# Show DataFrame with distance column"
   ]
  },
  {
   "cell_type": "code",
   "execution_count": 17,
   "id": "5ff49b68",
   "metadata": {},
   "outputs": [
    {
     "name": "stdout",
     "output_type": "stream",
     "text": [
      "+----------+--------+--------+---------+----------+-----+-----------+----------------------+---------+--------------+---------------+--------------------------+-------------+-------------------+----------------+----------------+--------------------+---------+---------------+----------------+---------+-------------------+--------------+-----------+\n",
      "|      Date|    Time|Latitude|Longitude|      Type|Depth|Depth Error|Depth Seismic Stations|Magnitude|Magnitude Type|Magnitude Error|Magnitude Seismic Stations|Azimuthal Gap|Horizontal Distance|Horizontal Error|Root Mean Square|                  ID|   Source|Location Source|Magnitude Source|   Status|          Timestamp|MagnitudeLevel|Distance_km|\n",
      "+----------+--------+--------+---------+----------+-----+-----------+----------------------+---------+--------------+---------------+--------------------------+-------------+-------------------+----------------+----------------+--------------------+---------+---------------+----------------+---------+-------------------+--------------+-----------+\n",
      "|01/02/1965|13:44:18|  19.246|  145.616|Earthquake|131.6|       NULL|                  NULL|        6|            MW|           NULL|                      NULL|         NULL|               NULL|            NULL|            NULL|        ISCGEM860706|   ISCGEM|         ISCGEM|          ISCGEM|Automatic|1965-01-02 13:44:18|      Moderate|  15698.798|\n",
      "|01/04/1965|11:29:49|   1.863|  127.352|Earthquake| 80.0|       NULL|                  NULL|        5|            MW|           NULL|                      NULL|         NULL|               NULL|            NULL|            NULL|        ISCGEM860737|   ISCGEM|         ISCGEM|          ISCGEM|Automatic|1965-01-04 11:29:49|      Moderate|  14158.326|\n",
      "|01/05/1965|18:05:58| -20.579| -173.972|Earthquake| 20.0|       NULL|                  NULL|        6|            MW|           NULL|                      NULL|         NULL|               NULL|            NULL|            NULL|        ISCGEM860762|   ISCGEM|         ISCGEM|          ISCGEM|Automatic|1965-01-05 18:05:58|      Moderate|   17634.75|\n",
      "|01/08/1965|18:49:43| -59.076|  -23.557|Earthquake| 15.0|       NULL|                  NULL|        5|            MW|           NULL|                      NULL|         NULL|               NULL|            NULL|            NULL|        ISCGEM860856|   ISCGEM|         ISCGEM|          ISCGEM|Automatic|1965-01-08 18:49:43|      Moderate|  6882.5195|\n",
      "|01/09/1965|13:32:50|  11.938|  126.427|Earthquake| 15.0|       NULL|                  NULL|        5|            MW|           NULL|                      NULL|         NULL|               NULL|            NULL|            NULL|        ISCGEM860890|   ISCGEM|         ISCGEM|          ISCGEM|Automatic|1965-01-09 13:32:50|      Moderate|  13956.939|\n",
      "|01/10/1965|13:36:32| -13.405|  166.629|Earthquake| 35.0|       NULL|                  NULL|        6|            MW|           NULL|                      NULL|         NULL|               NULL|            NULL|            NULL|        ISCGEM860922|   ISCGEM|         ISCGEM|          ISCGEM|Automatic|1965-01-10 13:36:32|      Moderate|  17919.447|\n",
      "|01/12/1965|13:32:25|  27.357|   87.867|Earthquake| 20.0|       NULL|                  NULL|        5|            MW|           NULL|                      NULL|         NULL|               NULL|            NULL|            NULL|        ISCGEM861007|   ISCGEM|         ISCGEM|          ISCGEM|Automatic|1965-01-12 13:32:25|      Moderate|     9796.9|\n",
      "|01/15/1965|23:17:42| -13.309|  166.212|Earthquake| 35.0|       NULL|                  NULL|        6|            MW|           NULL|                      NULL|         NULL|               NULL|            NULL|            NULL|        ISCGEM861111|   ISCGEM|         ISCGEM|          ISCGEM|Automatic|1965-01-15 23:17:42|      Moderate|  17894.225|\n",
      "|01/16/1965|11:32:37| -56.452|  -27.043|Earthquake| 95.0|       NULL|                  NULL|        6|            MW|           NULL|                      NULL|         NULL|               NULL|            NULL|            NULL|     ISCGEMSUP861125|ISCGEMSUP|         ISCGEM|          ISCGEM|Automatic|1965-01-16 11:32:37|      Moderate|   6728.832|\n",
      "|01/17/1965|10:43:17| -24.563|  178.487|Earthquake|565.0|       NULL|                  NULL|        5|            MW|           NULL|                      NULL|         NULL|               NULL|            NULL|            NULL|        ISCGEM861148|   ISCGEM|         ISCGEM|          ISCGEM|Automatic|1965-01-17 10:43:17|      Moderate|   17278.95|\n",
      "|01/17/1965|20:57:41|  -6.807|  108.988|Earthquake|227.9|       NULL|                  NULL|        5|            MW|           NULL|                      NULL|         NULL|               NULL|            NULL|            NULL|        ISCGEM861155|   ISCGEM|         ISCGEM|          ISCGEM|Automatic|1965-01-17 20:57:41|      Moderate|  12103.466|\n",
      "|01/24/1965|00:11:17|  -2.608|  125.952|Earthquake| 20.0|       NULL|                  NULL|        8|            MW|           NULL|                      NULL|         NULL|               NULL|            NULL|            NULL|        ISCGEM861299|   ISCGEM|         ISCGEM|          ISCGEM|Automatic|1965-01-24 00:11:17|          High|  14000.438|\n",
      "|01/29/1965|09:35:30|  54.636|  161.703|Earthquake| 55.0|       NULL|                  NULL|        5|            MW|           NULL|                      NULL|         NULL|               NULL|            NULL|            NULL|        ISCGEM861461|   ISCGEM|         ISCGEM|          ISCGEM|Automatic|1965-01-29 09:35:30|      Moderate|  13714.029|\n",
      "|02/01/1965|05:27:06| -18.697| -177.864|Earthquake|482.9|       NULL|                  NULL|        5|            MW|           NULL|                      NULL|         NULL|               NULL|            NULL|            NULL|        ISCGEM859136|   ISCGEM|         ISCGEM|          ISCGEM|Automatic|1965-02-01 05:27:06|      Moderate|  17923.033|\n",
      "|02/02/1965|15:56:51|  37.523|   73.251|Earthquake| 15.0|       NULL|                  NULL|        6|            MW|           NULL|                      NULL|         NULL|               NULL|            NULL|            NULL|        ISCGEM859164|   ISCGEM|         ISCGEM|          ISCGEM|Automatic|1965-02-02 15:56:51|      Moderate|   8538.416|\n",
      "|02/04/1965|03:25:00|  -51.84|  139.741|Earthquake| 10.0|       NULL|                  NULL|        6|            MW|           NULL|                      NULL|         NULL|               NULL|            NULL|            NULL|        ISCGEM859200|   ISCGEM|         ISCGEM|          ISCGEM|Automatic|1965-02-04 03:25:00|      Moderate|  13135.703|\n",
      "|02/04/1965|05:01:22|  51.251|  178.715|Earthquake| 30.3|       NULL|                  NULL|        8|            MW|           NULL|                      NULL|         NULL|               NULL|            NULL|            NULL|OFFICIAL196502040...| OFFICIAL|         ISCGEM|        OFFICIAL|Automatic|1965-02-04 05:01:22|          High|   14314.95|\n",
      "|02/04/1965|06:04:59|  51.639|  175.055|Earthquake| 30.0|       NULL|                  NULL|        6|            MW|           NULL|                      NULL|         NULL|               NULL|            NULL|            NULL|     ISCGEMSUP859215|ISCGEMSUP|         ISCGEM|          ISCGEM|Automatic|1965-02-04 06:04:59|      Moderate|  14254.345|\n",
      "|02/04/1965|06:37:06|  52.528|  172.007|Earthquake| 25.0|       NULL|                  NULL|        5|            MW|           NULL|                      NULL|         NULL|               NULL|            NULL|            NULL|        ISCGEM859221|   ISCGEM|         ISCGEM|          ISCGEM|Automatic|1965-02-04 06:37:06|      Moderate|  14126.929|\n",
      "|02/04/1965|06:39:32|  51.626|  175.746|Earthquake| 25.0|       NULL|                  NULL|        5|            MW|           NULL|                      NULL|         NULL|               NULL|            NULL|            NULL|        ISCGEM859222|   ISCGEM|         ISCGEM|          ISCGEM|Automatic|1965-02-04 06:39:32|      Moderate|   14260.65|\n",
      "+----------+--------+--------+---------+----------+-----+-----------+----------------------+---------+--------------+---------------+--------------------------+-------------+-------------------+----------------+----------------+--------------------+---------+---------------+----------------+---------+-------------------+--------------+-----------+\n",
      "only showing top 20 rows\n",
      "\n"
     ]
    }
   ],
   "source": [
    "df.show()"
   ]
  },
  {
   "cell_type": "markdown",
   "id": "c4e38567",
   "metadata": {},
   "source": [
    "### 7. Visualize the geographical distribution of earthquakes on a world map using appropriate libraries (e.g., Basemap or Folium)."
   ]
  },
  {
   "cell_type": "code",
   "execution_count": 18,
   "id": "0b9191a0",
   "metadata": {},
   "outputs": [],
   "source": [
    "limited_df_distance = df.limit(300)"
   ]
  },
  {
   "cell_type": "code",
   "execution_count": 19,
   "id": "334e6a5f",
   "metadata": {},
   "outputs": [],
   "source": [
    "# Create a Folium map centered at a location\n",
    "m = folium.Map(location=[0, 0], zoom_start=2)\n",
    "\n",
    "# df = df.head(100)\n",
    "\n",
    "\n",
    "# Add markers for each earthquake location\n",
    "for row in limited_df_distance.collect():\n",
    "    folium.Marker([row[\"Latitude\"], row[\"Longitude\"]], popup=row[\"ID\"]).add_to(m)\n",
    "\n",
    "# Save the map to an HTML file\n",
    "m.save(\"earthquake_map.html\")\n"
   ]
  },
  {
   "cell_type": "markdown",
   "id": "4d5f22b0",
   "metadata": {},
   "source": [
    "### 8.Please include the final csv in the repository."
   ]
  },
  {
   "cell_type": "code",
   "execution_count": 20,
   "id": "f66ed028",
   "metadata": {},
   "outputs": [],
   "source": [
    "# Writing the csv file according to Map's Data.\n",
    "limited_df_distance.coalesce(1).write.csv(\"map_eqs.csv\", header=True)"
   ]
  },
  {
   "cell_type": "code",
   "execution_count": null,
   "id": "daf98ea7",
   "metadata": {},
   "outputs": [],
   "source": []
  },
  {
   "cell_type": "code",
   "execution_count": 21,
   "id": "2e481d0c",
   "metadata": {},
   "outputs": [],
   "source": [
    "# Stop SparkSession\n",
    "spark.stop()"
   ]
  },
  {
   "cell_type": "code",
   "execution_count": null,
   "id": "df48d486",
   "metadata": {},
   "outputs": [],
   "source": []
  }
 ],
 "metadata": {
  "kernelspec": {
   "display_name": "Python 3 (ipykernel)",
   "language": "python",
   "name": "python3"
  },
  "language_info": {
   "codemirror_mode": {
    "name": "ipython",
    "version": 3
   },
   "file_extension": ".py",
   "mimetype": "text/x-python",
   "name": "python",
   "nbconvert_exporter": "python",
   "pygments_lexer": "ipython3",
   "version": "3.11.5"
  }
 },
 "nbformat": 4,
 "nbformat_minor": 5
}
